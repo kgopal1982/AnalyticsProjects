{
 "cells": [
  {
   "cell_type": "code",
   "execution_count": 1,
   "metadata": {},
   "outputs": [],
   "source": [
    "#https://datahack.analyticsvidhya.com/contest/ltfs-datascience-finhack-an-online-hackathon/"
   ]
  },
  {
   "cell_type": "code",
   "execution_count": 2,
   "metadata": {},
   "outputs": [],
   "source": [
    "import pandas as pd\n",
    "import numpy as np\n",
    "import matplotlib.pyplot as plt\n",
    "from sklearn.model_selection import train_test_split\n",
    "from IPython.core.interactiveshell import InteractiveShell\n",
    "InteractiveShell.ast_node_interactivity = \"all\""
   ]
  },
  {
   "cell_type": "code",
   "execution_count": 3,
   "metadata": {},
   "outputs": [],
   "source": [
    "#load the datasets\n",
    "train_orig = pd.read_csv(\"D:\\\\datasets\\\\Heckathon\\\\LoanDefault\\\\train_aox2Jxw\\\\train.csv\")\n",
    "test_orig = pd.read_csv(\"D:\\\\datasets\\\\Heckathon\\\\LoanDefault\\\\test_bqCt9Pv.csv\")"
   ]
  },
  {
   "cell_type": "code",
   "execution_count": 4,
   "metadata": {},
   "outputs": [
    {
     "name": "stdout",
     "output_type": "stream",
     "text": [
      "<class 'pandas.core.frame.DataFrame'>\n",
      "RangeIndex: 233154 entries, 0 to 233153\n",
      "Data columns (total 41 columns):\n",
      "UniqueID                               233154 non-null int64\n",
      "disbursed_amount                       233154 non-null int64\n",
      "asset_cost                             233154 non-null int64\n",
      "ltv                                    233154 non-null float64\n",
      "branch_id                              233154 non-null int64\n",
      "supplier_id                            233154 non-null int64\n",
      "manufacturer_id                        233154 non-null int64\n",
      "Current_pincode_ID                     233154 non-null int64\n",
      "Date.of.Birth                          233154 non-null object\n",
      "Employment.Type                        225493 non-null object\n",
      "DisbursalDate                          233154 non-null object\n",
      "State_ID                               233154 non-null int64\n",
      "Employee_code_ID                       233154 non-null int64\n",
      "MobileNo_Avl_Flag                      233154 non-null int64\n",
      "Aadhar_flag                            233154 non-null int64\n",
      "PAN_flag                               233154 non-null int64\n",
      "VoterID_flag                           233154 non-null int64\n",
      "Driving_flag                           233154 non-null int64\n",
      "Passport_flag                          233154 non-null int64\n",
      "PERFORM_CNS.SCORE                      233154 non-null int64\n",
      "PERFORM_CNS.SCORE.DESCRIPTION          233154 non-null object\n",
      "PRI.NO.OF.ACCTS                        233154 non-null int64\n",
      "PRI.ACTIVE.ACCTS                       233154 non-null int64\n",
      "PRI.OVERDUE.ACCTS                      233154 non-null int64\n",
      "PRI.CURRENT.BALANCE                    233154 non-null int64\n",
      "PRI.SANCTIONED.AMOUNT                  233154 non-null int64\n",
      "PRI.DISBURSED.AMOUNT                   233154 non-null int64\n",
      "SEC.NO.OF.ACCTS                        233154 non-null int64\n",
      "SEC.ACTIVE.ACCTS                       233154 non-null int64\n",
      "SEC.OVERDUE.ACCTS                      233154 non-null int64\n",
      "SEC.CURRENT.BALANCE                    233154 non-null int64\n",
      "SEC.SANCTIONED.AMOUNT                  233154 non-null int64\n",
      "SEC.DISBURSED.AMOUNT                   233154 non-null int64\n",
      "PRIMARY.INSTAL.AMT                     233154 non-null int64\n",
      "SEC.INSTAL.AMT                         233154 non-null int64\n",
      "NEW.ACCTS.IN.LAST.SIX.MONTHS           233154 non-null int64\n",
      "DELINQUENT.ACCTS.IN.LAST.SIX.MONTHS    233154 non-null int64\n",
      "AVERAGE.ACCT.AGE                       233154 non-null object\n",
      "CREDIT.HISTORY.LENGTH                  233154 non-null object\n",
      "NO.OF_INQUIRIES                        233154 non-null int64\n",
      "loan_default                           233154 non-null int64\n",
      "dtypes: float64(1), int64(34), object(6)\n",
      "memory usage: 72.9+ MB\n"
     ]
    },
    {
     "data": {
      "text/plain": [
       "(233154, 41)"
      ]
     },
     "execution_count": 4,
     "metadata": {},
     "output_type": "execute_result"
    },
    {
     "name": "stdout",
     "output_type": "stream",
     "text": [
      "<class 'pandas.core.frame.DataFrame'>\n",
      "RangeIndex: 112392 entries, 0 to 112391\n",
      "Data columns (total 40 columns):\n",
      "UniqueID                               112392 non-null int64\n",
      "disbursed_amount                       112392 non-null int64\n",
      "asset_cost                             112392 non-null int64\n",
      "ltv                                    112392 non-null float64\n",
      "branch_id                              112392 non-null int64\n",
      "supplier_id                            112392 non-null int64\n",
      "manufacturer_id                        112392 non-null int64\n",
      "Current_pincode_ID                     112392 non-null int64\n",
      "Date.of.Birth                          112392 non-null object\n",
      "Employment.Type                        108949 non-null object\n",
      "DisbursalDate                          112392 non-null object\n",
      "State_ID                               112392 non-null int64\n",
      "Employee_code_ID                       112392 non-null int64\n",
      "MobileNo_Avl_Flag                      112392 non-null int64\n",
      "Aadhar_flag                            112392 non-null int64\n",
      "PAN_flag                               112392 non-null int64\n",
      "VoterID_flag                           112392 non-null int64\n",
      "Driving_flag                           112392 non-null int64\n",
      "Passport_flag                          112392 non-null int64\n",
      "PERFORM_CNS.SCORE                      112392 non-null int64\n",
      "PERFORM_CNS.SCORE.DESCRIPTION          112392 non-null object\n",
      "PRI.NO.OF.ACCTS                        112392 non-null int64\n",
      "PRI.ACTIVE.ACCTS                       112392 non-null int64\n",
      "PRI.OVERDUE.ACCTS                      112392 non-null int64\n",
      "PRI.CURRENT.BALANCE                    112392 non-null int64\n",
      "PRI.SANCTIONED.AMOUNT                  112392 non-null int64\n",
      "PRI.DISBURSED.AMOUNT                   112392 non-null int64\n",
      "SEC.NO.OF.ACCTS                        112392 non-null int64\n",
      "SEC.ACTIVE.ACCTS                       112392 non-null int64\n",
      "SEC.OVERDUE.ACCTS                      112392 non-null int64\n",
      "SEC.CURRENT.BALANCE                    112392 non-null int64\n",
      "SEC.SANCTIONED.AMOUNT                  112392 non-null int64\n",
      "SEC.DISBURSED.AMOUNT                   112392 non-null int64\n",
      "PRIMARY.INSTAL.AMT                     112392 non-null int64\n",
      "SEC.INSTAL.AMT                         112392 non-null int64\n",
      "NEW.ACCTS.IN.LAST.SIX.MONTHS           112392 non-null int64\n",
      "DELINQUENT.ACCTS.IN.LAST.SIX.MONTHS    112392 non-null int64\n",
      "AVERAGE.ACCT.AGE                       112392 non-null object\n",
      "CREDIT.HISTORY.LENGTH                  112392 non-null object\n",
      "NO.OF_INQUIRIES                        112392 non-null int64\n",
      "dtypes: float64(1), int64(33), object(6)\n",
      "memory usage: 34.3+ MB\n"
     ]
    },
    {
     "data": {
      "text/plain": [
       "(112392, 40)"
      ]
     },
     "execution_count": 4,
     "metadata": {},
     "output_type": "execute_result"
    }
   ],
   "source": [
    "train_orig.info()\n",
    "train_orig.shape\n",
    "test_orig.info()\n",
    "test_orig.shape"
   ]
  },
  {
   "cell_type": "code",
   "execution_count": 65,
   "metadata": {},
   "outputs": [],
   "source": [
    "train = train_orig.copy(deep= True)\n",
    "test = test_orig.copy(deep= True)"
   ]
  },
  {
   "cell_type": "code",
   "execution_count": 52,
   "metadata": {},
   "outputs": [
    {
     "data": {
      "text/plain": [
       "UniqueID                                  0\n",
       "disbursed_amount                          0\n",
       "asset_cost                                0\n",
       "ltv                                       0\n",
       "branch_id                                 0\n",
       "supplier_id                               0\n",
       "manufacturer_id                           0\n",
       "Current_pincode_ID                        0\n",
       "Date.of.Birth                             0\n",
       "Employment.Type                        7661\n",
       "DisbursalDate                             0\n",
       "State_ID                                  0\n",
       "Employee_code_ID                          0\n",
       "MobileNo_Avl_Flag                         0\n",
       "Aadhar_flag                               0\n",
       "PAN_flag                                  0\n",
       "VoterID_flag                              0\n",
       "Driving_flag                              0\n",
       "Passport_flag                             0\n",
       "PERFORM_CNS.SCORE                         0\n",
       "PERFORM_CNS.SCORE.DESCRIPTION             0\n",
       "PRI.NO.OF.ACCTS                           0\n",
       "PRI.ACTIVE.ACCTS                          0\n",
       "PRI.OVERDUE.ACCTS                         0\n",
       "PRI.CURRENT.BALANCE                       0\n",
       "PRI.SANCTIONED.AMOUNT                     0\n",
       "PRI.DISBURSED.AMOUNT                      0\n",
       "SEC.NO.OF.ACCTS                           0\n",
       "SEC.ACTIVE.ACCTS                          0\n",
       "SEC.OVERDUE.ACCTS                         0\n",
       "SEC.CURRENT.BALANCE                       0\n",
       "SEC.SANCTIONED.AMOUNT                     0\n",
       "SEC.DISBURSED.AMOUNT                      0\n",
       "PRIMARY.INSTAL.AMT                        0\n",
       "SEC.INSTAL.AMT                            0\n",
       "NEW.ACCTS.IN.LAST.SIX.MONTHS              0\n",
       "DELINQUENT.ACCTS.IN.LAST.SIX.MONTHS       0\n",
       "AVERAGE.ACCT.AGE                          0\n",
       "CREDIT.HISTORY.LENGTH                     0\n",
       "NO.OF_INQUIRIES                           0\n",
       "loan_default                              0\n",
       "dtype: int64"
      ]
     },
     "execution_count": 52,
     "metadata": {},
     "output_type": "execute_result"
    },
    {
     "data": {
      "text/plain": [
       "UniqueID                                  0\n",
       "disbursed_amount                          0\n",
       "asset_cost                                0\n",
       "ltv                                       0\n",
       "branch_id                                 0\n",
       "supplier_id                               0\n",
       "manufacturer_id                           0\n",
       "Current_pincode_ID                        0\n",
       "Date.of.Birth                             0\n",
       "Employment.Type                        3443\n",
       "DisbursalDate                             0\n",
       "State_ID                                  0\n",
       "Employee_code_ID                          0\n",
       "MobileNo_Avl_Flag                         0\n",
       "Aadhar_flag                               0\n",
       "PAN_flag                                  0\n",
       "VoterID_flag                              0\n",
       "Driving_flag                              0\n",
       "Passport_flag                             0\n",
       "PERFORM_CNS.SCORE                         0\n",
       "PERFORM_CNS.SCORE.DESCRIPTION             0\n",
       "PRI.NO.OF.ACCTS                           0\n",
       "PRI.ACTIVE.ACCTS                          0\n",
       "PRI.OVERDUE.ACCTS                         0\n",
       "PRI.CURRENT.BALANCE                       0\n",
       "PRI.SANCTIONED.AMOUNT                     0\n",
       "PRI.DISBURSED.AMOUNT                      0\n",
       "SEC.NO.OF.ACCTS                           0\n",
       "SEC.ACTIVE.ACCTS                          0\n",
       "SEC.OVERDUE.ACCTS                         0\n",
       "SEC.CURRENT.BALANCE                       0\n",
       "SEC.SANCTIONED.AMOUNT                     0\n",
       "SEC.DISBURSED.AMOUNT                      0\n",
       "PRIMARY.INSTAL.AMT                        0\n",
       "SEC.INSTAL.AMT                            0\n",
       "NEW.ACCTS.IN.LAST.SIX.MONTHS              0\n",
       "DELINQUENT.ACCTS.IN.LAST.SIX.MONTHS       0\n",
       "AVERAGE.ACCT.AGE                          0\n",
       "CREDIT.HISTORY.LENGTH                     0\n",
       "NO.OF_INQUIRIES                           0\n",
       "dtype: int64"
      ]
     },
     "execution_count": 52,
     "metadata": {},
     "output_type": "execute_result"
    }
   ],
   "source": [
    "#check for missing values\n",
    "pd.isnull(train).sum()\n",
    "pd.isnull(test).sum()"
   ]
  },
  {
   "cell_type": "code",
   "execution_count": 53,
   "metadata": {
    "scrolled": true
   },
   "outputs": [
    {
     "data": {
      "text/plain": [
       "Self employed    127635\n",
       "Salaried          97858\n",
       "Name: Employment.Type, dtype: int64"
      ]
     },
     "execution_count": 53,
     "metadata": {},
     "output_type": "execute_result"
    },
    {
     "data": {
      "text/plain": [
       "Self employed    59794\n",
       "Salaried         49155\n",
       "Name: Employment.Type, dtype: int64"
      ]
     },
     "execution_count": 53,
     "metadata": {},
     "output_type": "execute_result"
    }
   ],
   "source": [
    "train['Employment.Type'].value_counts()\n",
    "test['Employment.Type'].value_counts()"
   ]
  },
  {
   "cell_type": "code",
   "execution_count": 54,
   "metadata": {},
   "outputs": [
    {
     "data": {
      "text/plain": [
       "array(['No Bureau History Available', 'I-Medium Risk', 'L-Very High Risk',\n",
       "       'A-Very Low Risk',\n",
       "       'Not Scored: Not Enough Info available on the customer',\n",
       "       'D-Very Low Risk', 'M-Very High Risk', 'B-Very Low Risk',\n",
       "       'C-Very Low Risk', 'E-Low Risk', 'H-Medium Risk', 'F-Low Risk',\n",
       "       'K-High Risk',\n",
       "       'Not Scored: No Activity seen on the customer (Inactive)',\n",
       "       'Not Scored: Sufficient History Not Available',\n",
       "       'Not Scored: No Updates available in last 36 months', 'G-Low Risk',\n",
       "       'J-High Risk', 'Not Scored: Only a Guarantor',\n",
       "       'Not Scored: More than 50 active Accounts found'], dtype=object)"
      ]
     },
     "execution_count": 54,
     "metadata": {},
     "output_type": "execute_result"
    }
   ],
   "source": [
    "train['PERFORM_CNS.SCORE.DESCRIPTION'].unique()"
   ]
  },
  {
   "cell_type": "code",
   "execution_count": 55,
   "metadata": {},
   "outputs": [
    {
     "data": {
      "text/plain": [
       "array(['0yrs 0mon', '1yrs 11mon', '1yrs 3mon', '2yrs 0mon', '0yrs 2mon',\n",
       "       '4yrs 8mon', '1yrs 7mon', '0yrs 7mon', '2yrs 3mon', '2yrs 9mon',\n",
       "       '2yrs 1mon', '7yrs 2mon', '0yrs 1mon', '5yrs 6mon', '4yrs 7mon',\n",
       "       '1yrs 9mon', '0yrs 11mon', '0yrs 10mon', '5yrs 10mon', '3yrs 1mon',\n",
       "       '5yrs 4mon', '4yrs 10mon', '0yrs 4mon', '4yrs 0mon', '3yrs 9mon',\n",
       "       '2yrs 11mon', '1yrs 8mon', '5yrs 2mon', '2yrs 10mon', '1yrs 2mon',\n",
       "       '1yrs 5mon', '12yrs 10mon', '2yrs 2mon', '3yrs 8mon', '7yrs 5mon',\n",
       "       '1yrs 0mon', '4yrs 2mon', '1yrs 10mon', '0yrs 6mon', '3yrs 2mon',\n",
       "       '5yrs 1mon', '4yrs 3mon', '6yrs 9mon', '1yrs 1mon', '11yrs 0mon',\n",
       "       '0yrs 9mon', '5yrs 0mon', '11yrs 2mon', '4yrs 1mon', '1yrs 4mon',\n",
       "       '4yrs 9mon', '12yrs 11mon', '3yrs 7mon', '2yrs 5mon', '0yrs 3mon',\n",
       "       '6yrs 6mon', '1yrs 6mon', '7yrs 4mon', '19yrs 3mon', '3yrs 0mon',\n",
       "       '4yrs 6mon', '2yrs 7mon', '2yrs 8mon', '3yrs 11mon', '4yrs 11mon',\n",
       "       '8yrs 1mon', '7yrs 7mon', '6yrs 7mon', '2yrs 4mon', '3yrs 10mon',\n",
       "       '3yrs 3mon', '9yrs 2mon', '5yrs 11mon', '7yrs 1mon', '0yrs 5mon',\n",
       "       '3yrs 5mon', '3yrs 4mon', '2yrs 6mon', '3yrs 6mon', '6yrs 10mon',\n",
       "       '6yrs 3mon', '4yrs 5mon', '13yrs 2mon', '12yrs 3mon', '0yrs 8mon',\n",
       "       '6yrs 2mon', '11yrs 11mon', '6yrs 5mon', '5yrs 5mon', '6yrs 11mon',\n",
       "       '11yrs 4mon', '6yrs 1mon', '8yrs 6mon', '8yrs 4mon', '5yrs 8mon',\n",
       "       '8yrs 11mon', '11yrs 3mon', '10yrs 9mon', '7yrs 3mon', '5yrs 7mon',\n",
       "       '10yrs 0mon', '6yrs 8mon', '5yrs 3mon', '10yrs 10mon', '8yrs 8mon',\n",
       "       '4yrs 4mon', '6yrs 0mon', '8yrs 3mon', '8yrs 7mon', '10yrs 5mon',\n",
       "       '24yrs 8mon', '13yrs 5mon', '5yrs 9mon', '8yrs 5mon', '10yrs 2mon',\n",
       "       '7yrs 0mon', '8yrs 10mon', '11yrs 5mon', '9yrs 4mon', '12yrs 0mon',\n",
       "       '9yrs 8mon', '7yrs 11mon', '9yrs 5mon', '11yrs 7mon', '7yrs 8mon',\n",
       "       '6yrs 4mon', '9yrs 11mon', '9yrs 10mon', '13yrs 3mon',\n",
       "       '11yrs 8mon', '10yrs 1mon', '11yrs 6mon', '8yrs 9mon',\n",
       "       '10yrs 4mon', '16yrs 1mon', '9yrs 1mon', '15yrs 2mon',\n",
       "       '11yrs 9mon', '12yrs 1mon', '8yrs 2mon', '22yrs 7mon',\n",
       "       '10yrs 3mon', '9yrs 7mon', '8yrs 0mon', '14yrs 9mon',\n",
       "       '14yrs 10mon', '14yrs 0mon', '10yrs 8mon', '16yrs 5mon',\n",
       "       '10yrs 7mon', '11yrs 10mon', '12yrs 6mon', '7yrs 9mon',\n",
       "       '16yrs 4mon', '11yrs 1mon', '7yrs 6mon', '7yrs 10mon', '9yrs 9mon',\n",
       "       '12yrs 8mon', '12yrs 9mon', '13yrs 7mon', '9yrs 0mon',\n",
       "       '17yrs 1mon', '22yrs 3mon', '13yrs 10mon', '13yrs 6mon',\n",
       "       '12yrs 4mon', '10yrs 11mon', '9yrs 3mon', '12yrs 5mon',\n",
       "       '14yrs 11mon', '10yrs 6mon', '9yrs 6mon', '15yrs 1mon',\n",
       "       '14yrs 3mon', '13yrs 4mon', '14yrs 7mon', '15yrs 11mon',\n",
       "       '27yrs 4mon', '13yrs 0mon', '13yrs 8mon', '19yrs 11mon',\n",
       "       '16yrs 8mon', '24yrs 2mon', '15yrs 7mon', '13yrs 1mon',\n",
       "       '12yrs 7mon', '15yrs 6mon', '15yrs 5mon', '13yrs 11mon',\n",
       "       '16yrs 6mon', '23yrs 3mon', '17yrs 0mon', '14yrs 6mon',\n",
       "       '17yrs 10mon', '14yrs 1mon', '18yrs 1mon', '15yrs 3mon',\n",
       "       '20yrs 6mon', '14yrs 8mon', '15yrs 9mon', '19yrs 9mon',\n",
       "       '15yrs 10mon', '17yrs 9mon', '15yrs 4mon', '12yrs 2mon',\n",
       "       '19yrs 10mon', '15yrs 8mon', '14yrs 4mon', '14yrs 2mon',\n",
       "       '14yrs 5mon', '27yrs 3mon', '19yrs 8mon', '17yrs 6mon',\n",
       "       '16yrs 9mon', '20yrs 1mon', '16yrs 2mon', '19yrs 4mon',\n",
       "       '13yrs 9mon', '18yrs 4mon', '17yrs 3mon', '18yrs 2mon',\n",
       "       '37yrs 5mon', '16yrs 0mon', '18yrs 6mon', '19yrs 7mon',\n",
       "       '16yrs 3mon', '20yrs 5mon', '21yrs 3mon', '25yrs 6mon',\n",
       "       '20yrs 8mon', '22yrs 1mon', '20yrs 9mon', '17yrs 2mon',\n",
       "       '18yrs 5mon', '30yrs 9mon', '29yrs 7mon', '15yrs 0mon',\n",
       "       '16yrs 10mon', '18yrs 11mon', '16yrs 11mon', '22yrs 2mon',\n",
       "       '23yrs 6mon', '20yrs 11mon', '18yrs 10mon', '24yrs 4mon',\n",
       "       '28yrs 1mon', '16yrs 7mon', '20yrs 10mon', '25yrs 0mon',\n",
       "       '25yrs 7mon', '39yrs 0mon', '23yrs 2mon', '19yrs 6mon',\n",
       "       '18yrs 0mon', '17yrs 7mon', '23yrs 4mon', '21yrs 5mon',\n",
       "       '17yrs 5mon', '21yrs 8mon', '30yrs 7mon', '17yrs 4mon',\n",
       "       '19yrs 5mon', '18yrs 8mon', '22yrs 6mon', '24yrs 7mon',\n",
       "       '20yrs 4mon', '28yrs 3mon', '35yrs 3mon', '29yrs 1mon',\n",
       "       '20yrs 2mon', '34yrs 5mon', '17yrs 11mon', '26yrs 3mon',\n",
       "       '28yrs 7mon', '24yrs 0mon', '26yrs 8mon', '21yrs 11mon',\n",
       "       '17yrs 8mon', '19yrs 1mon', '21yrs 1mon', '26yrs 11mon',\n",
       "       '22yrs 11mon', '25yrs 8mon', '22yrs 0mon', '20yrs 0mon',\n",
       "       '22yrs 4mon', '21yrs 9mon', '28yrs 9mon', '19yrs 0mon',\n",
       "       '25yrs 11mon', '23yrs 1mon', '21yrs 2mon', '22yrs 10mon'],\n",
       "      dtype=object)"
      ]
     },
     "execution_count": 55,
     "metadata": {},
     "output_type": "execute_result"
    }
   ],
   "source": [
    "train['CREDIT.HISTORY.LENGTH'].unique()"
   ]
  },
  {
   "cell_type": "code",
   "execution_count": 56,
   "metadata": {},
   "outputs": [
    {
     "data": {
      "text/plain": [
       "1    233154\n",
       "Name: MobileNo_Avl_Flag, dtype: int64"
      ]
     },
     "execution_count": 56,
     "metadata": {},
     "output_type": "execute_result"
    }
   ],
   "source": [
    "train['MobileNo_Avl_Flag'].value_counts()"
   ]
  },
  {
   "cell_type": "code",
   "execution_count": 57,
   "metadata": {},
   "outputs": [],
   "source": [
    "from datetime import datetime\n",
    "from datetime import date\n",
    "import re"
   ]
  },
  {
   "cell_type": "code",
   "execution_count": 66,
   "metadata": {},
   "outputs": [],
   "source": [
    "#preprocess the data\n",
    "def process_data(df):\n",
    "    #fill null values with Not Available\n",
    "    df = df.fillna('Not Available')\n",
    "    #calculate age based on date of birth\n",
    "    df['Date.of.Birth'] = pd.to_datetime(df['Date.of.Birth'])\n",
    "    now = datetime.now()\n",
    "    df['age'] = ((now - df['Date.of.Birth'])/365).dt.days\n",
    "    df.drop(['Date.of.Birth'], axis=1, inplace=True)\n",
    "    #calculate disbursal age\n",
    "    df['DisbursalDate'] = pd.to_datetime(df['DisbursalDate'])\n",
    "    df['DisbursalAge'] = ((now - df['DisbursalDate'])/365).dt.days\n",
    "    df.drop(['DisbursalDate'], axis=1, inplace=True)\n",
    "    #create mapping for CNS Description\n",
    "    score_mapping = {'No Bureau History Available': 1,\n",
    "                 'I-Medium Risk': 2,\n",
    "                 'L-Very High Risk': 3,\n",
    "                 'A-Very Low Risk': 4,\n",
    "                 'Not Scored: Not Enough Info available on the customer': 5,\n",
    "                 'D-Very Low Risk': 6,\n",
    "                 'M-Very High Risk': 7,\n",
    "                 'B-Very Low Risk': 8,\n",
    "                 'C-Very Low Risk': 9,\n",
    "                 'E-Low Risk': 10,\n",
    "                 'H-Medium Risk': 11,\n",
    "                 'F-Low Risk': 12,\n",
    "                 'K-High Risk': 13,\n",
    "                 'Not Scored: No Activity seen on the customer (Inactive)': 14,\n",
    "                 'Not Scored: Sufficient History Not Available': 15,\n",
    "                 'Not Scored: No Updates available in last 36 months': 16,\n",
    "                 'G-Low Risk': 17,\n",
    "                 'J-High Risk': 18,\n",
    "                 'Not Scored: Only a Guarantor': 19,\n",
    "                 'Not Scored: More than 50 active Accounts found': 20}\n",
    "    df['PERFORM_CNS.SCORE.DESCRIPTION'] = [score_mapping[item] for item in df['PERFORM_CNS.SCORE.DESCRIPTION']]\n",
    "    df.drop(['PERFORM_CNS.SCORE.DESCRIPTION'], axis=1, inplace=True)\n",
    "    #Consider only year for Credit History Length and Average Acct Age\n",
    "    def NoOfYears(str1):\n",
    "        d1 = re.findall('\\d+', str1 )\n",
    "        yrs = d1[0]\n",
    "        return yrs\n",
    "    df['CREDIT.HISTORY.LENGTH_NoOfYrs'] = df['CREDIT.HISTORY.LENGTH'].apply(NoOfYears)\n",
    "    df['CREDIT.HISTORY.LENGTH_NoOfYrs'] = df['CREDIT.HISTORY.LENGTH_NoOfYrs'].astype(int)\n",
    "    df['AVERAGE.ACCT.AGE_NoOfYrs'] = df['AVERAGE.ACCT.AGE'].apply(NoOfYears)\n",
    "    df['AVERAGE.ACCT.AGE_NoOfYrs'] = df['AVERAGE.ACCT.AGE_NoOfYrs'].astype(int)\n",
    "    #remove the columns not required\n",
    "    df.drop(['MobileNo_Avl_Flag', 'UniqueID', 'branch_id', 'supplier_id', 'manufacturer_id', 'Current_pincode_ID',\n",
    "           'State_ID', 'Employee_code_ID', 'MobileNo_Avl_Flag','AVERAGE.ACCT.AGE','CREDIT.HISTORY.LENGTH'], axis=1, inplace=True)\n",
    "    #Do One Hot encoding for Employment Type\n",
    "    df['Employment.Type'] = df['Employment.Type'].map({\"Salaried\":0, \"Self employed\":1, \"Not Available\": 3}).astype(int)\n",
    "    return df"
   ]
  },
  {
   "cell_type": "code",
   "execution_count": 67,
   "metadata": {},
   "outputs": [],
   "source": [
    "train = process_data(train)#pre-process train dataset"
   ]
  },
  {
   "cell_type": "code",
   "execution_count": 68,
   "metadata": {},
   "outputs": [
    {
     "name": "stdout",
     "output_type": "stream",
     "text": [
      "<class 'pandas.core.frame.DataFrame'>\n",
      "RangeIndex: 233154 entries, 0 to 233153\n",
      "Data columns (total 32 columns):\n",
      "disbursed_amount                       233154 non-null int64\n",
      "asset_cost                             233154 non-null int64\n",
      "ltv                                    233154 non-null float64\n",
      "Employment.Type                        233154 non-null int32\n",
      "Aadhar_flag                            233154 non-null int64\n",
      "PAN_flag                               233154 non-null int64\n",
      "VoterID_flag                           233154 non-null int64\n",
      "Driving_flag                           233154 non-null int64\n",
      "Passport_flag                          233154 non-null int64\n",
      "PERFORM_CNS.SCORE                      233154 non-null int64\n",
      "PRI.NO.OF.ACCTS                        233154 non-null int64\n",
      "PRI.ACTIVE.ACCTS                       233154 non-null int64\n",
      "PRI.OVERDUE.ACCTS                      233154 non-null int64\n",
      "PRI.CURRENT.BALANCE                    233154 non-null int64\n",
      "PRI.SANCTIONED.AMOUNT                  233154 non-null int64\n",
      "PRI.DISBURSED.AMOUNT                   233154 non-null int64\n",
      "SEC.NO.OF.ACCTS                        233154 non-null int64\n",
      "SEC.ACTIVE.ACCTS                       233154 non-null int64\n",
      "SEC.OVERDUE.ACCTS                      233154 non-null int64\n",
      "SEC.CURRENT.BALANCE                    233154 non-null int64\n",
      "SEC.SANCTIONED.AMOUNT                  233154 non-null int64\n",
      "SEC.DISBURSED.AMOUNT                   233154 non-null int64\n",
      "PRIMARY.INSTAL.AMT                     233154 non-null int64\n",
      "SEC.INSTAL.AMT                         233154 non-null int64\n",
      "NEW.ACCTS.IN.LAST.SIX.MONTHS           233154 non-null int64\n",
      "DELINQUENT.ACCTS.IN.LAST.SIX.MONTHS    233154 non-null int64\n",
      "NO.OF_INQUIRIES                        233154 non-null int64\n",
      "loan_default                           233154 non-null int64\n",
      "age                                    233154 non-null int64\n",
      "DisbursalAge                           233154 non-null int64\n",
      "CREDIT.HISTORY.LENGTH_NoOfYrs          233154 non-null int32\n",
      "AVERAGE.ACCT.AGE_NoOfYrs               233154 non-null int32\n",
      "dtypes: float64(1), int32(3), int64(28)\n",
      "memory usage: 54.3 MB\n"
     ]
    },
    {
     "data": {
      "text/html": [
       "<div>\n",
       "<style scoped>\n",
       "    .dataframe tbody tr th:only-of-type {\n",
       "        vertical-align: middle;\n",
       "    }\n",
       "\n",
       "    .dataframe tbody tr th {\n",
       "        vertical-align: top;\n",
       "    }\n",
       "\n",
       "    .dataframe thead th {\n",
       "        text-align: right;\n",
       "    }\n",
       "</style>\n",
       "<table border=\"1\" class=\"dataframe\">\n",
       "  <thead>\n",
       "    <tr style=\"text-align: right;\">\n",
       "      <th></th>\n",
       "      <th>disbursed_amount</th>\n",
       "      <th>asset_cost</th>\n",
       "      <th>ltv</th>\n",
       "      <th>Employment.Type</th>\n",
       "      <th>Aadhar_flag</th>\n",
       "      <th>PAN_flag</th>\n",
       "      <th>VoterID_flag</th>\n",
       "      <th>Driving_flag</th>\n",
       "      <th>Passport_flag</th>\n",
       "      <th>PERFORM_CNS.SCORE</th>\n",
       "      <th>...</th>\n",
       "      <th>PRIMARY.INSTAL.AMT</th>\n",
       "      <th>SEC.INSTAL.AMT</th>\n",
       "      <th>NEW.ACCTS.IN.LAST.SIX.MONTHS</th>\n",
       "      <th>DELINQUENT.ACCTS.IN.LAST.SIX.MONTHS</th>\n",
       "      <th>NO.OF_INQUIRIES</th>\n",
       "      <th>loan_default</th>\n",
       "      <th>age</th>\n",
       "      <th>DisbursalAge</th>\n",
       "      <th>CREDIT.HISTORY.LENGTH_NoOfYrs</th>\n",
       "      <th>AVERAGE.ACCT.AGE_NoOfYrs</th>\n",
       "    </tr>\n",
       "  </thead>\n",
       "  <tbody>\n",
       "    <tr>\n",
       "      <th>0</th>\n",
       "      <td>50578</td>\n",
       "      <td>58400</td>\n",
       "      <td>89.55</td>\n",
       "      <td>0</td>\n",
       "      <td>1</td>\n",
       "      <td>0</td>\n",
       "      <td>0</td>\n",
       "      <td>0</td>\n",
       "      <td>0</td>\n",
       "      <td>0</td>\n",
       "      <td>...</td>\n",
       "      <td>0</td>\n",
       "      <td>0</td>\n",
       "      <td>0</td>\n",
       "      <td>0</td>\n",
       "      <td>0</td>\n",
       "      <td>0</td>\n",
       "      <td>35</td>\n",
       "      <td>1</td>\n",
       "      <td>0</td>\n",
       "      <td>0</td>\n",
       "    </tr>\n",
       "    <tr>\n",
       "      <th>1</th>\n",
       "      <td>47145</td>\n",
       "      <td>65550</td>\n",
       "      <td>73.23</td>\n",
       "      <td>1</td>\n",
       "      <td>1</td>\n",
       "      <td>0</td>\n",
       "      <td>0</td>\n",
       "      <td>0</td>\n",
       "      <td>0</td>\n",
       "      <td>598</td>\n",
       "      <td>...</td>\n",
       "      <td>1991</td>\n",
       "      <td>0</td>\n",
       "      <td>0</td>\n",
       "      <td>1</td>\n",
       "      <td>0</td>\n",
       "      <td>1</td>\n",
       "      <td>33</td>\n",
       "      <td>0</td>\n",
       "      <td>1</td>\n",
       "      <td>1</td>\n",
       "    </tr>\n",
       "    <tr>\n",
       "      <th>2</th>\n",
       "      <td>53278</td>\n",
       "      <td>61360</td>\n",
       "      <td>89.63</td>\n",
       "      <td>1</td>\n",
       "      <td>1</td>\n",
       "      <td>0</td>\n",
       "      <td>0</td>\n",
       "      <td>0</td>\n",
       "      <td>0</td>\n",
       "      <td>0</td>\n",
       "      <td>...</td>\n",
       "      <td>0</td>\n",
       "      <td>0</td>\n",
       "      <td>0</td>\n",
       "      <td>0</td>\n",
       "      <td>0</td>\n",
       "      <td>0</td>\n",
       "      <td>33</td>\n",
       "      <td>1</td>\n",
       "      <td>0</td>\n",
       "      <td>0</td>\n",
       "    </tr>\n",
       "    <tr>\n",
       "      <th>3</th>\n",
       "      <td>57513</td>\n",
       "      <td>66113</td>\n",
       "      <td>88.48</td>\n",
       "      <td>1</td>\n",
       "      <td>1</td>\n",
       "      <td>0</td>\n",
       "      <td>0</td>\n",
       "      <td>0</td>\n",
       "      <td>0</td>\n",
       "      <td>305</td>\n",
       "      <td>...</td>\n",
       "      <td>31</td>\n",
       "      <td>0</td>\n",
       "      <td>0</td>\n",
       "      <td>0</td>\n",
       "      <td>1</td>\n",
       "      <td>1</td>\n",
       "      <td>25</td>\n",
       "      <td>0</td>\n",
       "      <td>1</td>\n",
       "      <td>0</td>\n",
       "    </tr>\n",
       "    <tr>\n",
       "      <th>4</th>\n",
       "      <td>52378</td>\n",
       "      <td>60300</td>\n",
       "      <td>88.39</td>\n",
       "      <td>1</td>\n",
       "      <td>1</td>\n",
       "      <td>0</td>\n",
       "      <td>0</td>\n",
       "      <td>0</td>\n",
       "      <td>0</td>\n",
       "      <td>0</td>\n",
       "      <td>...</td>\n",
       "      <td>0</td>\n",
       "      <td>0</td>\n",
       "      <td>0</td>\n",
       "      <td>0</td>\n",
       "      <td>1</td>\n",
       "      <td>1</td>\n",
       "      <td>41</td>\n",
       "      <td>0</td>\n",
       "      <td>0</td>\n",
       "      <td>0</td>\n",
       "    </tr>\n",
       "  </tbody>\n",
       "</table>\n",
       "<p>5 rows × 32 columns</p>\n",
       "</div>"
      ],
      "text/plain": [
       "   disbursed_amount  asset_cost    ltv  Employment.Type  Aadhar_flag  \\\n",
       "0             50578       58400  89.55                0            1   \n",
       "1             47145       65550  73.23                1            1   \n",
       "2             53278       61360  89.63                1            1   \n",
       "3             57513       66113  88.48                1            1   \n",
       "4             52378       60300  88.39                1            1   \n",
       "\n",
       "   PAN_flag  VoterID_flag  Driving_flag  Passport_flag  PERFORM_CNS.SCORE  \\\n",
       "0         0             0             0              0                  0   \n",
       "1         0             0             0              0                598   \n",
       "2         0             0             0              0                  0   \n",
       "3         0             0             0              0                305   \n",
       "4         0             0             0              0                  0   \n",
       "\n",
       "             ...             PRIMARY.INSTAL.AMT  SEC.INSTAL.AMT  \\\n",
       "0            ...                              0               0   \n",
       "1            ...                           1991               0   \n",
       "2            ...                              0               0   \n",
       "3            ...                             31               0   \n",
       "4            ...                              0               0   \n",
       "\n",
       "   NEW.ACCTS.IN.LAST.SIX.MONTHS  DELINQUENT.ACCTS.IN.LAST.SIX.MONTHS  \\\n",
       "0                             0                                    0   \n",
       "1                             0                                    1   \n",
       "2                             0                                    0   \n",
       "3                             0                                    0   \n",
       "4                             0                                    0   \n",
       "\n",
       "   NO.OF_INQUIRIES  loan_default  age  DisbursalAge  \\\n",
       "0                0             0   35             1   \n",
       "1                0             1   33             0   \n",
       "2                0             0   33             1   \n",
       "3                1             1   25             0   \n",
       "4                1             1   41             0   \n",
       "\n",
       "   CREDIT.HISTORY.LENGTH_NoOfYrs  AVERAGE.ACCT.AGE_NoOfYrs  \n",
       "0                              0                         0  \n",
       "1                              1                         1  \n",
       "2                              0                         0  \n",
       "3                              1                         0  \n",
       "4                              0                         0  \n",
       "\n",
       "[5 rows x 32 columns]"
      ]
     },
     "execution_count": 68,
     "metadata": {},
     "output_type": "execute_result"
    }
   ],
   "source": [
    "train.info()\n",
    "train.head()"
   ]
  },
  {
   "cell_type": "code",
   "execution_count": 69,
   "metadata": {},
   "outputs": [
    {
     "data": {
      "text/plain": [
       "array([0, 1, 3], dtype=int64)"
      ]
     },
     "execution_count": 69,
     "metadata": {},
     "output_type": "execute_result"
    }
   ],
   "source": [
    "train['Employment.Type'].unique()"
   ]
  },
  {
   "cell_type": "code",
   "execution_count": 70,
   "metadata": {},
   "outputs": [
    {
     "name": "stdout",
     "output_type": "stream",
     "text": [
      "<class 'pandas.core.frame.DataFrame'>\n",
      "RangeIndex: 112392 entries, 0 to 112391\n",
      "Data columns (total 40 columns):\n",
      "UniqueID                               112392 non-null int64\n",
      "disbursed_amount                       112392 non-null int64\n",
      "asset_cost                             112392 non-null int64\n",
      "ltv                                    112392 non-null float64\n",
      "branch_id                              112392 non-null int64\n",
      "supplier_id                            112392 non-null int64\n",
      "manufacturer_id                        112392 non-null int64\n",
      "Current_pincode_ID                     112392 non-null int64\n",
      "Date.of.Birth                          112392 non-null object\n",
      "Employment.Type                        108949 non-null object\n",
      "DisbursalDate                          112392 non-null object\n",
      "State_ID                               112392 non-null int64\n",
      "Employee_code_ID                       112392 non-null int64\n",
      "MobileNo_Avl_Flag                      112392 non-null int64\n",
      "Aadhar_flag                            112392 non-null int64\n",
      "PAN_flag                               112392 non-null int64\n",
      "VoterID_flag                           112392 non-null int64\n",
      "Driving_flag                           112392 non-null int64\n",
      "Passport_flag                          112392 non-null int64\n",
      "PERFORM_CNS.SCORE                      112392 non-null int64\n",
      "PERFORM_CNS.SCORE.DESCRIPTION          112392 non-null object\n",
      "PRI.NO.OF.ACCTS                        112392 non-null int64\n",
      "PRI.ACTIVE.ACCTS                       112392 non-null int64\n",
      "PRI.OVERDUE.ACCTS                      112392 non-null int64\n",
      "PRI.CURRENT.BALANCE                    112392 non-null int64\n",
      "PRI.SANCTIONED.AMOUNT                  112392 non-null int64\n",
      "PRI.DISBURSED.AMOUNT                   112392 non-null int64\n",
      "SEC.NO.OF.ACCTS                        112392 non-null int64\n",
      "SEC.ACTIVE.ACCTS                       112392 non-null int64\n",
      "SEC.OVERDUE.ACCTS                      112392 non-null int64\n",
      "SEC.CURRENT.BALANCE                    112392 non-null int64\n",
      "SEC.SANCTIONED.AMOUNT                  112392 non-null int64\n",
      "SEC.DISBURSED.AMOUNT                   112392 non-null int64\n",
      "PRIMARY.INSTAL.AMT                     112392 non-null int64\n",
      "SEC.INSTAL.AMT                         112392 non-null int64\n",
      "NEW.ACCTS.IN.LAST.SIX.MONTHS           112392 non-null int64\n",
      "DELINQUENT.ACCTS.IN.LAST.SIX.MONTHS    112392 non-null int64\n",
      "AVERAGE.ACCT.AGE                       112392 non-null object\n",
      "CREDIT.HISTORY.LENGTH                  112392 non-null object\n",
      "NO.OF_INQUIRIES                        112392 non-null int64\n",
      "dtypes: float64(1), int64(33), object(6)\n",
      "memory usage: 34.3+ MB\n"
     ]
    }
   ],
   "source": [
    "test.info()"
   ]
  },
  {
   "cell_type": "code",
   "execution_count": 71,
   "metadata": {},
   "outputs": [],
   "source": [
    "test = process_data(test)#pre-process test dataset"
   ]
  },
  {
   "cell_type": "code",
   "execution_count": 72,
   "metadata": {},
   "outputs": [
    {
     "name": "stdout",
     "output_type": "stream",
     "text": [
      "<class 'pandas.core.frame.DataFrame'>\n",
      "RangeIndex: 112392 entries, 0 to 112391\n",
      "Data columns (total 31 columns):\n",
      "disbursed_amount                       112392 non-null int64\n",
      "asset_cost                             112392 non-null int64\n",
      "ltv                                    112392 non-null float64\n",
      "Employment.Type                        112392 non-null int32\n",
      "Aadhar_flag                            112392 non-null int64\n",
      "PAN_flag                               112392 non-null int64\n",
      "VoterID_flag                           112392 non-null int64\n",
      "Driving_flag                           112392 non-null int64\n",
      "Passport_flag                          112392 non-null int64\n",
      "PERFORM_CNS.SCORE                      112392 non-null int64\n",
      "PRI.NO.OF.ACCTS                        112392 non-null int64\n",
      "PRI.ACTIVE.ACCTS                       112392 non-null int64\n",
      "PRI.OVERDUE.ACCTS                      112392 non-null int64\n",
      "PRI.CURRENT.BALANCE                    112392 non-null int64\n",
      "PRI.SANCTIONED.AMOUNT                  112392 non-null int64\n",
      "PRI.DISBURSED.AMOUNT                   112392 non-null int64\n",
      "SEC.NO.OF.ACCTS                        112392 non-null int64\n",
      "SEC.ACTIVE.ACCTS                       112392 non-null int64\n",
      "SEC.OVERDUE.ACCTS                      112392 non-null int64\n",
      "SEC.CURRENT.BALANCE                    112392 non-null int64\n",
      "SEC.SANCTIONED.AMOUNT                  112392 non-null int64\n",
      "SEC.DISBURSED.AMOUNT                   112392 non-null int64\n",
      "PRIMARY.INSTAL.AMT                     112392 non-null int64\n",
      "SEC.INSTAL.AMT                         112392 non-null int64\n",
      "NEW.ACCTS.IN.LAST.SIX.MONTHS           112392 non-null int64\n",
      "DELINQUENT.ACCTS.IN.LAST.SIX.MONTHS    112392 non-null int64\n",
      "NO.OF_INQUIRIES                        112392 non-null int64\n",
      "age                                    112392 non-null int64\n",
      "DisbursalAge                           112392 non-null int64\n",
      "CREDIT.HISTORY.LENGTH_NoOfYrs          112392 non-null int32\n",
      "AVERAGE.ACCT.AGE_NoOfYrs               112392 non-null int32\n",
      "dtypes: float64(1), int32(3), int64(27)\n",
      "memory usage: 25.3 MB\n"
     ]
    },
    {
     "data": {
      "text/html": [
       "<div>\n",
       "<style scoped>\n",
       "    .dataframe tbody tr th:only-of-type {\n",
       "        vertical-align: middle;\n",
       "    }\n",
       "\n",
       "    .dataframe tbody tr th {\n",
       "        vertical-align: top;\n",
       "    }\n",
       "\n",
       "    .dataframe thead th {\n",
       "        text-align: right;\n",
       "    }\n",
       "</style>\n",
       "<table border=\"1\" class=\"dataframe\">\n",
       "  <thead>\n",
       "    <tr style=\"text-align: right;\">\n",
       "      <th></th>\n",
       "      <th>disbursed_amount</th>\n",
       "      <th>asset_cost</th>\n",
       "      <th>ltv</th>\n",
       "      <th>Employment.Type</th>\n",
       "      <th>Aadhar_flag</th>\n",
       "      <th>PAN_flag</th>\n",
       "      <th>VoterID_flag</th>\n",
       "      <th>Driving_flag</th>\n",
       "      <th>Passport_flag</th>\n",
       "      <th>PERFORM_CNS.SCORE</th>\n",
       "      <th>...</th>\n",
       "      <th>SEC.DISBURSED.AMOUNT</th>\n",
       "      <th>PRIMARY.INSTAL.AMT</th>\n",
       "      <th>SEC.INSTAL.AMT</th>\n",
       "      <th>NEW.ACCTS.IN.LAST.SIX.MONTHS</th>\n",
       "      <th>DELINQUENT.ACCTS.IN.LAST.SIX.MONTHS</th>\n",
       "      <th>NO.OF_INQUIRIES</th>\n",
       "      <th>age</th>\n",
       "      <th>DisbursalAge</th>\n",
       "      <th>CREDIT.HISTORY.LENGTH_NoOfYrs</th>\n",
       "      <th>AVERAGE.ACCT.AGE_NoOfYrs</th>\n",
       "    </tr>\n",
       "  </thead>\n",
       "  <tbody>\n",
       "    <tr>\n",
       "      <th>0</th>\n",
       "      <td>53478</td>\n",
       "      <td>63558</td>\n",
       "      <td>86.54</td>\n",
       "      <td>0</td>\n",
       "      <td>1</td>\n",
       "      <td>0</td>\n",
       "      <td>0</td>\n",
       "      <td>0</td>\n",
       "      <td>0</td>\n",
       "      <td>0</td>\n",
       "      <td>...</td>\n",
       "      <td>0</td>\n",
       "      <td>0</td>\n",
       "      <td>0</td>\n",
       "      <td>0</td>\n",
       "      <td>0</td>\n",
       "      <td>0</td>\n",
       "      <td>45</td>\n",
       "      <td>1</td>\n",
       "      <td>0</td>\n",
       "      <td>0</td>\n",
       "    </tr>\n",
       "    <tr>\n",
       "      <th>1</th>\n",
       "      <td>55513</td>\n",
       "      <td>63163</td>\n",
       "      <td>89.45</td>\n",
       "      <td>1</td>\n",
       "      <td>1</td>\n",
       "      <td>0</td>\n",
       "      <td>0</td>\n",
       "      <td>0</td>\n",
       "      <td>0</td>\n",
       "      <td>749</td>\n",
       "      <td>...</td>\n",
       "      <td>0</td>\n",
       "      <td>5605</td>\n",
       "      <td>0</td>\n",
       "      <td>1</td>\n",
       "      <td>0</td>\n",
       "      <td>1</td>\n",
       "      <td>33</td>\n",
       "      <td>0</td>\n",
       "      <td>1</td>\n",
       "      <td>0</td>\n",
       "    </tr>\n",
       "    <tr>\n",
       "      <th>2</th>\n",
       "      <td>65282</td>\n",
       "      <td>84320</td>\n",
       "      <td>79.93</td>\n",
       "      <td>0</td>\n",
       "      <td>1</td>\n",
       "      <td>1</td>\n",
       "      <td>0</td>\n",
       "      <td>0</td>\n",
       "      <td>0</td>\n",
       "      <td>0</td>\n",
       "      <td>...</td>\n",
       "      <td>0</td>\n",
       "      <td>0</td>\n",
       "      <td>0</td>\n",
       "      <td>0</td>\n",
       "      <td>0</td>\n",
       "      <td>0</td>\n",
       "      <td>23</td>\n",
       "      <td>0</td>\n",
       "      <td>0</td>\n",
       "      <td>0</td>\n",
       "    </tr>\n",
       "    <tr>\n",
       "      <th>3</th>\n",
       "      <td>46905</td>\n",
       "      <td>63896</td>\n",
       "      <td>76.58</td>\n",
       "      <td>1</td>\n",
       "      <td>1</td>\n",
       "      <td>0</td>\n",
       "      <td>0</td>\n",
       "      <td>0</td>\n",
       "      <td>0</td>\n",
       "      <td>14</td>\n",
       "      <td>...</td>\n",
       "      <td>0</td>\n",
       "      <td>0</td>\n",
       "      <td>0</td>\n",
       "      <td>0</td>\n",
       "      <td>0</td>\n",
       "      <td>0</td>\n",
       "      <td>46</td>\n",
       "      <td>0</td>\n",
       "      <td>2</td>\n",
       "      <td>2</td>\n",
       "    </tr>\n",
       "    <tr>\n",
       "      <th>4</th>\n",
       "      <td>51428</td>\n",
       "      <td>63896</td>\n",
       "      <td>86.08</td>\n",
       "      <td>0</td>\n",
       "      <td>1</td>\n",
       "      <td>0</td>\n",
       "      <td>0</td>\n",
       "      <td>0</td>\n",
       "      <td>0</td>\n",
       "      <td>0</td>\n",
       "      <td>...</td>\n",
       "      <td>0</td>\n",
       "      <td>0</td>\n",
       "      <td>0</td>\n",
       "      <td>0</td>\n",
       "      <td>0</td>\n",
       "      <td>0</td>\n",
       "      <td>47</td>\n",
       "      <td>0</td>\n",
       "      <td>0</td>\n",
       "      <td>0</td>\n",
       "    </tr>\n",
       "  </tbody>\n",
       "</table>\n",
       "<p>5 rows × 31 columns</p>\n",
       "</div>"
      ],
      "text/plain": [
       "   disbursed_amount  asset_cost    ltv  Employment.Type  Aadhar_flag  \\\n",
       "0             53478       63558  86.54                0            1   \n",
       "1             55513       63163  89.45                1            1   \n",
       "2             65282       84320  79.93                0            1   \n",
       "3             46905       63896  76.58                1            1   \n",
       "4             51428       63896  86.08                0            1   \n",
       "\n",
       "   PAN_flag  VoterID_flag  Driving_flag  Passport_flag  PERFORM_CNS.SCORE  \\\n",
       "0         0             0             0              0                  0   \n",
       "1         0             0             0              0                749   \n",
       "2         1             0             0              0                  0   \n",
       "3         0             0             0              0                 14   \n",
       "4         0             0             0              0                  0   \n",
       "\n",
       "             ...             SEC.DISBURSED.AMOUNT  PRIMARY.INSTAL.AMT  \\\n",
       "0            ...                                0                   0   \n",
       "1            ...                                0                5605   \n",
       "2            ...                                0                   0   \n",
       "3            ...                                0                   0   \n",
       "4            ...                                0                   0   \n",
       "\n",
       "   SEC.INSTAL.AMT  NEW.ACCTS.IN.LAST.SIX.MONTHS  \\\n",
       "0               0                             0   \n",
       "1               0                             1   \n",
       "2               0                             0   \n",
       "3               0                             0   \n",
       "4               0                             0   \n",
       "\n",
       "   DELINQUENT.ACCTS.IN.LAST.SIX.MONTHS  NO.OF_INQUIRIES  age  DisbursalAge  \\\n",
       "0                                    0                0   45             1   \n",
       "1                                    0                1   33             0   \n",
       "2                                    0                0   23             0   \n",
       "3                                    0                0   46             0   \n",
       "4                                    0                0   47             0   \n",
       "\n",
       "   CREDIT.HISTORY.LENGTH_NoOfYrs  AVERAGE.ACCT.AGE_NoOfYrs  \n",
       "0                              0                         0  \n",
       "1                              1                         0  \n",
       "2                              0                         0  \n",
       "3                              2                         2  \n",
       "4                              0                         0  \n",
       "\n",
       "[5 rows x 31 columns]"
      ]
     },
     "execution_count": 72,
     "metadata": {},
     "output_type": "execute_result"
    }
   ],
   "source": [
    "test.info()\n",
    "test.head()"
   ]
  },
  {
   "cell_type": "code",
   "execution_count": 73,
   "metadata": {},
   "outputs": [
    {
     "data": {
      "text/plain": [
       "0    182543\n",
       "1     50611\n",
       "Name: loan_default, dtype: int64"
      ]
     },
     "execution_count": 73,
     "metadata": {},
     "output_type": "execute_result"
    }
   ],
   "source": [
    "train['loan_default'].value_counts()"
   ]
  },
  {
   "cell_type": "code",
   "execution_count": 74,
   "metadata": {},
   "outputs": [],
   "source": [
    "#we have imbalanced dataset, so we will use SMOTE to balance the dataset"
   ]
  },
  {
   "cell_type": "code",
   "execution_count": 75,
   "metadata": {},
   "outputs": [],
   "source": [
    "x = train.drop('loan_default', axis = 1)\n",
    "y = train['loan_default']"
   ]
  },
  {
   "cell_type": "code",
   "execution_count": 76,
   "metadata": {},
   "outputs": [],
   "source": [
    "from imblearn.over_sampling import SMOTE\n",
    "\n",
    "smote = SMOTE(ratio='minority')\n",
    "X_sm, y_sm = smote.fit_sample(x, y)\n",
    "\n",
    "#plot_2d_space(X_sm, y_sm, 'SMOTE over-sampling')"
   ]
  },
  {
   "cell_type": "code",
   "execution_count": 77,
   "metadata": {},
   "outputs": [],
   "source": [
    "train_x, test_x, train_y, test_y = train_test_split(X_sm,y_sm,test_size = 0.3, random_state = 0)"
   ]
  },
  {
   "cell_type": "code",
   "execution_count": 78,
   "metadata": {},
   "outputs": [],
   "source": [
    "from sklearn.linear_model import LogisticRegression"
   ]
  },
  {
   "cell_type": "code",
   "execution_count": 79,
   "metadata": {},
   "outputs": [],
   "source": [
    "log = LogisticRegression()"
   ]
  },
  {
   "cell_type": "code",
   "execution_count": 80,
   "metadata": {},
   "outputs": [
    {
     "name": "stderr",
     "output_type": "stream",
     "text": [
      "C:\\Anaconda3\\lib\\site-packages\\sklearn\\linear_model\\logistic.py:433: FutureWarning: Default solver will be changed to 'lbfgs' in 0.22. Specify a solver to silence this warning.\n",
      "  FutureWarning)\n"
     ]
    },
    {
     "data": {
      "text/plain": [
       "LogisticRegression(C=1.0, class_weight=None, dual=False, fit_intercept=True,\n",
       "          intercept_scaling=1, max_iter=100, multi_class='warn',\n",
       "          n_jobs=None, penalty='l2', random_state=None, solver='warn',\n",
       "          tol=0.0001, verbose=0, warm_start=False)"
      ]
     },
     "execution_count": 80,
     "metadata": {},
     "output_type": "execute_result"
    }
   ],
   "source": [
    "log.fit(train_x, train_y)"
   ]
  },
  {
   "cell_type": "code",
   "execution_count": 81,
   "metadata": {},
   "outputs": [],
   "source": [
    "classes = log.predict(test_x)"
   ]
  },
  {
   "cell_type": "code",
   "execution_count": 83,
   "metadata": {},
   "outputs": [],
   "source": [
    "from sklearn import metrics\n",
    "from sklearn.metrics import roc_curve, auc, recall_score, precision_score, accuracy_score, f1_score\n",
    "from sklearn.metrics import confusion_matrix, average_precision_score, recall_score"
   ]
  },
  {
   "cell_type": "code",
   "execution_count": 84,
   "metadata": {},
   "outputs": [
    {
     "name": "stdout",
     "output_type": "stream",
     "text": [
      "Accuracy Score\n",
      "0.5660573745046839\n",
      "Precision/Recall Metrics\n",
      "              precision    recall  f1-score   support\n",
      "\n",
      "           0       0.58      0.49      0.53     54923\n",
      "           1       0.56      0.64      0.60     54603\n",
      "\n",
      "   micro avg       0.57      0.57      0.57    109526\n",
      "   macro avg       0.57      0.57      0.56    109526\n",
      "weighted avg       0.57      0.57      0.56    109526\n",
      "\n",
      "AUC\n",
      "0.5662758272164531\n"
     ]
    }
   ],
   "source": [
    "print(\"Accuracy Score\")\n",
    "print(metrics.accuracy_score(test_y, classes))\n",
    "print(\"Precision/Recall Metrics\")\n",
    "print(metrics.classification_report(test_y, classes))\n",
    "print(\"AUC\")\n",
    "auc = metrics.roc_auc_score(test_y, classes)\n",
    "print(auc)"
   ]
  },
  {
   "cell_type": "code",
   "execution_count": 85,
   "metadata": {},
   "outputs": [],
   "source": [
    "#Try Random classifier with smote"
   ]
  },
  {
   "cell_type": "code",
   "execution_count": 86,
   "metadata": {},
   "outputs": [],
   "source": [
    "x = train.drop('loan_default', axis = 1)\n",
    "y = train['loan_default']"
   ]
  },
  {
   "cell_type": "code",
   "execution_count": 87,
   "metadata": {},
   "outputs": [],
   "source": [
    "from imblearn.over_sampling import SMOTE\n",
    "\n",
    "smote = SMOTE(ratio='minority')\n",
    "x_sm, y_sm = smote.fit_sample(x, y)\n",
    "\n",
    "#plot_2d_space(x_sm, y_sm, 'SMOTE over-sampling')"
   ]
  },
  {
   "cell_type": "code",
   "execution_count": 88,
   "metadata": {},
   "outputs": [],
   "source": [
    "train_x, test_x, train_y, test_y = train_test_split(x_sm,y_sm,test_size = 0.3, random_state = 0)"
   ]
  },
  {
   "cell_type": "code",
   "execution_count": 89,
   "metadata": {},
   "outputs": [],
   "source": [
    "from sklearn.preprocessing import StandardScaler\n",
    "\n",
    "sc = StandardScaler()  \n",
    "train_x = sc.fit_transform(train_x)  \n",
    "test_x = sc.transform(test_x) "
   ]
  },
  {
   "cell_type": "code",
   "execution_count": 90,
   "metadata": {},
   "outputs": [
    {
     "data": {
      "text/plain": [
       "RandomForestClassifier(bootstrap=True, class_weight=None, criterion='gini',\n",
       "            max_depth=None, max_features='auto', max_leaf_nodes=None,\n",
       "            min_impurity_decrease=0.0, min_impurity_split=None,\n",
       "            min_samples_leaf=1, min_samples_split=2,\n",
       "            min_weight_fraction_leaf=0.0, n_estimators=20, n_jobs=None,\n",
       "            oob_score=False, random_state=0, verbose=0, warm_start=False)"
      ]
     },
     "execution_count": 90,
     "metadata": {},
     "output_type": "execute_result"
    }
   ],
   "source": [
    "from sklearn.ensemble import RandomForestClassifier\n",
    "clf = RandomForestClassifier(n_estimators=20, random_state=0)  \n",
    "clf.fit(train_x, train_y)"
   ]
  },
  {
   "cell_type": "code",
   "execution_count": 91,
   "metadata": {},
   "outputs": [],
   "source": [
    "classes = clf.predict(test_x)"
   ]
  },
  {
   "cell_type": "code",
   "execution_count": 92,
   "metadata": {},
   "outputs": [
    {
     "name": "stdout",
     "output_type": "stream",
     "text": [
      "Accuracy Score\n",
      "0.8332268137245951\n",
      "Precision/Recall Metrics\n",
      "              precision    recall  f1-score   support\n",
      "\n",
      "           0       0.78      0.93      0.85     54923\n",
      "           1       0.91      0.73      0.81     54603\n",
      "\n",
      "   micro avg       0.83      0.83      0.83    109526\n",
      "   macro avg       0.85      0.83      0.83    109526\n",
      "weighted avg       0.85      0.83      0.83    109526\n",
      "\n",
      "AUC\n",
      "0.8329387841311094\n"
     ]
    }
   ],
   "source": [
    "print(\"Accuracy Score\")\n",
    "print(metrics.accuracy_score(test_y, classes))\n",
    "print(\"Precision/Recall Metrics\")\n",
    "print(metrics.classification_report(test_y, classes))\n",
    "print(\"AUC\")\n",
    "auc = metrics.roc_auc_score(test_y, classes)\n",
    "print(auc)"
   ]
  },
  {
   "cell_type": "code",
   "execution_count": 93,
   "metadata": {},
   "outputs": [],
   "source": [
    "import dill"
   ]
  },
  {
   "cell_type": "code",
   "execution_count": 94,
   "metadata": {},
   "outputs": [],
   "source": [
    "#save the state\n",
    "dill.dump_session('D:\\\\datasets\\\\Heckathon\\\\LoanDefault\\\\RF_Smote.db')"
   ]
  },
  {
   "cell_type": "code",
   "execution_count": null,
   "metadata": {},
   "outputs": [],
   "source": []
  }
 ],
 "metadata": {
  "kernelspec": {
   "display_name": "Python 3",
   "language": "python",
   "name": "python3"
  },
  "language_info": {
   "codemirror_mode": {
    "name": "ipython",
    "version": 3
   },
   "file_extension": ".py",
   "mimetype": "text/x-python",
   "name": "python",
   "nbconvert_exporter": "python",
   "pygments_lexer": "ipython3",
   "version": "3.6.5"
  }
 },
 "nbformat": 4,
 "nbformat_minor": 2
}
