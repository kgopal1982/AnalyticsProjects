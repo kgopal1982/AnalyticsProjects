{
 "cells": [
  {
   "cell_type": "code",
   "execution_count": 30,
   "metadata": {},
   "outputs": [],
   "source": [
    "#Webscraping of Amazon product page"
   ]
  },
  {
   "cell_type": "code",
   "execution_count": 1,
   "metadata": {},
   "outputs": [],
   "source": [
    "#reference is https://www.promptcloud.com/blog/how-to-scrape-amazon-reviews-python"
   ]
  },
  {
   "cell_type": "code",
   "execution_count": 1,
   "metadata": {},
   "outputs": [],
   "source": [
    "#import the libraries\n",
    "import urllib.request\n",
    "import urllib.parse\n",
    "import urllib.error\n",
    "from bs4 import BeautifulSoup\n",
    "import ssl\n",
    "import json"
   ]
  },
  {
   "cell_type": "code",
   "execution_count": 2,
   "metadata": {},
   "outputs": [],
   "source": [
    "# For ignoring SSL certificate errors\n",
    "ctx = ssl.create_default_context()\n",
    "ctx.check_hostname = False\n",
    "ctx.verify_mode = ssl.CERT_NONE"
   ]
  },
  {
   "cell_type": "code",
   "execution_count": null,
   "metadata": {},
   "outputs": [],
   "source": [
    "#https://www.amazon.in/Kevin-inches-Ready-Smart-K32CV338H/dp/B073VN6PRD/ref=sr_1_1?s=electronics&ie=UTF8&qid=1549812352&sr=1-1&refinements=p_89%3AKevin"
   ]
  },
  {
   "cell_type": "code",
   "execution_count": 3,
   "metadata": {},
   "outputs": [],
   "source": [
    "#url=input(\"Enter Amazon Product Url- \")\n",
    "url = \"https://www.amazon.in/Kevin-inches-Ready-Smart-K32CV338H/dp/B073VN6PRD/ref=sr_1_1?s=electronics&ie=UTF8&qid=1549812352&sr=1-1&refinements=p_89%3AKevin\""
   ]
  },
  {
   "cell_type": "raw",
   "metadata": {},
   "source": [
    "import requests\n",
    "page = requests.get(url)\n",
    "html = page"
   ]
  },
  {
   "cell_type": "code",
   "execution_count": 12,
   "metadata": {},
   "outputs": [],
   "source": [
    "html = urllib.request.urlopen(url, context=ctx).read()\n",
    "soup = BeautifulSoup(html, 'html.parser')\n",
    "html = soup.prettify('utf-8')\n",
    "product_json = {}"
   ]
  },
  {
   "cell_type": "code",
   "execution_count": 13,
   "metadata": {},
   "outputs": [],
   "source": [
    "# This block of code will help extract the Prodcut Title of the item\n",
    "for spans in soup.findAll('span', attrs={'id': 'productTitle'}):\n",
    "    name_of_product = spans.text.strip()\n",
    "    product_json['name'] = name_of_product\n",
    "    break"
   ]
  },
  {
   "cell_type": "code",
   "execution_count": 14,
   "metadata": {},
   "outputs": [
    {
     "data": {
      "text/plain": [
       "{'name': 'Kevin 80 cm (32 Inches) HD Ready LED Smart TV K32CV338H (Black)'}"
      ]
     },
     "execution_count": 14,
     "metadata": {},
     "output_type": "execute_result"
    }
   ],
   "source": [
    "product_json"
   ]
  },
  {
   "cell_type": "code",
   "execution_count": 15,
   "metadata": {},
   "outputs": [],
   "source": [
    "# This block of code will help extract the Product Price\n",
    "for spans in soup.findAll('span', attrs={'id': 'priceblock_ourprice'}):\n",
    "    price_of_product = spans.text.strip()\n",
    "    product_json['Price'] = price_of_product\n",
    "    break"
   ]
  },
  {
   "cell_type": "code",
   "execution_count": 16,
   "metadata": {},
   "outputs": [
    {
     "data": {
      "text/plain": [
       "{'name': 'Kevin 80 cm (32 Inches) HD Ready LED Smart TV K32CV338H (Black)'}"
      ]
     },
     "execution_count": 16,
     "metadata": {},
     "output_type": "execute_result"
    }
   ],
   "source": [
    "product_json"
   ]
  },
  {
   "cell_type": "code",
   "execution_count": 17,
   "metadata": {},
   "outputs": [],
   "source": [
    "# This block of code will help extract the average star rating of the product\n",
    "for spans in soup.findAll('span',attrs={'data-hook': 'rating-out-of-text'}):\n",
    "    product_json['Average Rating'] = spans.text.strip()\n",
    "    break"
   ]
  },
  {
   "cell_type": "code",
   "execution_count": 18,
   "metadata": {},
   "outputs": [
    {
     "data": {
      "text/plain": [
       "{'name': 'Kevin 80 cm (32 Inches) HD Ready LED Smart TV K32CV338H (Black)',\n",
       " 'Average Rating': '4.3 out of 5 stars'}"
      ]
     },
     "execution_count": 18,
     "metadata": {},
     "output_type": "execute_result"
    }
   ],
   "source": [
    "product_json"
   ]
  },
  {
   "cell_type": "code",
   "execution_count": 19,
   "metadata": {},
   "outputs": [],
   "source": [
    "# This block of code will help extract the number of customer reviews of the product\n",
    "for h2s in soup.findAll('h2', attrs={'data-hook': 'total-review-count'}):\n",
    "    product_json['Number of Customer Reviews'] = h2s.text.strip()\n",
    "    break"
   ]
  },
  {
   "cell_type": "code",
   "execution_count": 20,
   "metadata": {},
   "outputs": [
    {
     "data": {
      "text/plain": [
       "{'name': 'Kevin 80 cm (32 Inches) HD Ready LED Smart TV K32CV338H (Black)',\n",
       " 'Average Rating': '4.3 out of 5 stars',\n",
       " 'Number of Customer Reviews': '1,134 customer reviews'}"
      ]
     },
     "execution_count": 20,
     "metadata": {},
     "output_type": "execute_result"
    }
   ],
   "source": [
    "product_json"
   ]
  },
  {
   "cell_type": "code",
   "execution_count": null,
   "metadata": {},
   "outputs": [],
   "source": []
  },
  {
   "cell_type": "raw",
   "metadata": {},
   "source": [
    "#This block will help extract the review comments\n",
    "product_json['short-reviews'] = []\n",
    "for a_tags in soup.findAll('a',attrs={'class': 'a-size-base a-link-normal review-title a-color-base a-text-bold'}):\n",
    "    short_review = a_tags.text.strip()\n",
    "    product_json['short-reviews'].append(short_review)"
   ]
  },
  {
   "cell_type": "code",
   "execution_count": 21,
   "metadata": {},
   "outputs": [],
   "source": [
    "#product_json"
   ]
  },
  {
   "cell_type": "code",
   "execution_count": 22,
   "metadata": {},
   "outputs": [
    {
     "name": "stdout",
     "output_type": "stream",
     "text": [
      "13\n"
     ]
    }
   ],
   "source": [
    "#This block will help extract the review comments\n",
    "product_json['reviews'] = []\n",
    "count = 0\n",
    "for divs in soup.findAll('div',attrs={'class': 'a-expander-content a-expander-partial-collapse-content'}):\n",
    "    count = count + 1\n",
    "    review = divs.text.strip()\n",
    "    product_json['reviews'].append(review)\n",
    "    #print(review)\n",
    "print(count)"
   ]
  },
  {
   "cell_type": "code",
   "execution_count": 23,
   "metadata": {},
   "outputs": [
    {
     "data": {
      "text/plain": [
       "{'name': 'Kevin 80 cm (32 Inches) HD Ready LED Smart TV K32CV338H (Black)',\n",
       " 'Average Rating': '4.3 out of 5 stars',\n",
       " 'Number of Customer Reviews': '1,134 customer reviews',\n",
       " 'reviews': ['',\n",
       "  'About Us \\n    \\n\\n            KEVIN has been one of the pioneers in manufacturing LED televisions. Equipped with advanced technology, get immersed in a never-before like TV watching experience.\\n        \\n\\n            The genesis of the company on the industrial landscape took place in 1978. Starting its operation on a small scale, today, Beston Skyvision Pvt. Ltd. is one of the formidable forces in the electronics industry. Operating development and manufacturing facilities. At present, 150 plus strong, experienced and dedicated team, working under the flagship of the company, makes Beston Skyvision Pvt. Ltd. a one of the market leader in the category.',\n",
       "  \"Vibrant colours, clear motion rate, better images. You get all this and more with the full HD LED TV. HRDD technology and the 1920 x 1020 resolution allows for better clarity, colour and contrast.\\n        \\n\\n\\n\\n\\n\\n            Feel the world coming to life with KEVIN HRDD resolution display which gives highest picture quality. An unmatched great viewing experience.\\n        \\n\\n\\n\\n\\n\\n            Relish the shows even from the edge of the screen. The secret behind KEVIN TV's life-like color and wide viewing angle is the A+ grade panel. It comes with a wide viewing angle of 178°/178° that lets you watch your favourite shows from any angle without any blur. Free from color wash and picture fade, it is the ideal panel for all purposes.\",\n",
       "  'Play exciting games on TV - enjoy clearer and crispier  scenes while playing fast moving games on your television and bring the  real action to life.\\n        \\n\\n\\n\\n\\n\\n            Up, close and real bringing out the true color of entertainment.\\n        \\n\\n\\n\\n\\n\\n            Your home is now the new theatre!  The built-in cinema mode feature on your TV allows you to watch movies  in theatre-style audio and video settings, so you get the feel of a  cinema hall right at your home! Thanks to the wide 178 x 178 viewing angle, sit anywhere surrounding the TV and enjoy your TV content comfortably.',\n",
       "  'Stream, download, discover all within seconds. It is better than before. Get hooked to your TVs to get the maximum entertainment.\\n        \\n\\n\\n\\n\\n\\n            Experience sound like never before. Now, connect to all your home entertainment systems with just one single remote. Your Television comes with two powerful speakers for clearer and better surround sound quality.\\n        \\n\\n\\n\\n\\n\\n            Easy, fast and smart. Search less and watch more with the smarter way to enjoy entertainment. One hub for all your entertainment requirements and one single remote to manage them all. Explore the easy access to entertainment.\\n        \\n\\n\\n\\n\\n\\n            Get ready to watch your fav music programme, movies, play games, etc. via M-cast on your smart TV screen. Share your TV screen with your IOS or android mobile.',\n",
       "  \"I bought this product on 30th Aug 2018 after reading so many reviews and researching other tv's at this price range.Below are my reviews after one week of usage,1. Picture quality is good even for SD channels(Comparatively better than MI in this price range).2. Sound quality is not that great but ok.3. Web touch remote is really great option.4. By default it has apps like hotstar, youtube, facebook and netflix. Connecting to wifi is easy and there is no issue till now.Cons:1. Poor Installation service. Installation person came after a week and he is not good at his service and he even didn't know much about the product and how to install it in the wall. He literally damaged the wall with multiple retries.2. Casting(M-Cast and normal cast) is won't work with all the mobile devices. I have Moto G6 which can't be connected to this TV but Lenova mobiles are connecting easily.  But it has Eshare which will connect your phone and TV and you have to install app in the phone.3. Not all wireless USB and Keyboards are supported. You need to search for the specific wireless devices. I have Logitech Wireless(With Nano Receiver) mouse which is not connecting at all.Note: They won't provide batteries for the remote.Overall, it's  good product at this price range. I will update here If I face any issues.Thanks.\",\n",
       "  'Had replaced a 32 inch smart tv by LG after it developed weird areas with white glow on screen.This one has all the features and frankly is smarter. Installation was a breeze and the people who came for demo were helpful is telling about the features.',\n",
       "  'I was little bit confused before buying this tv.But decided to try new brand.This smart TV is excellent in this range for picture quality and other functions.Fully satisfied with this product☺️☺️',\n",
       "  \"I searched for all kinds of television. I look for everything was available online sites finally came across this television had great ratings on Amazon read all the reviews which prompted me to buy it but I was still sceptical until I got the delivery. When installation was completed I was amazed at the kind of picture quality and the quality of black colour the depth of image in the overall experience. This is an amazing television for the price that you're getting at this price point!!!! just amazing picture quality, amazing sound and amazing overall Android performance. Even Prime Video works awesome on it, so its just better than Mi TV. I think everyone looking for a TV should definitely go for it\",\n",
       "  'Poor installation service.The installation technician seems to be newbie and hence was unable to install and mount properly on the wall.He even does not have proper wire connection skills and in hit and trial process he burnt my set up box.He finally left in incomplete installation process and without any demo.Very pathetic installation service. Highly disappointed.I called the customer care team but the number was always busy, waited for 15-20 min on line by but was not connected to the human customer executive and hence I finally disconnected the phone.I am highly disappointed with the Installation and demo service as it is still incomplete.And I need compensation for the burning/damage of my set up box.As Kevin team is responsible for my this loss.Also, Kindly assign an expert technician to complete my installation and demo service.',\n",
       "  'I like this productValue for money',\n",
       "  'In this range it is a good buy smart tv. it has all the features of a smart tv and its working smooth from last 1month. I do not see any cons it is.really appreciate the makers....make in india..hatts off you guys',\n",
       "  \"I purchased this TV August and the installation was done by the technician within the next day. He explained everything in detail. The product quality is great and I haven't faced any issues so far. I truly recommend this product...go for it without any hesitation.\"]}"
      ]
     },
     "execution_count": 23,
     "metadata": {},
     "output_type": "execute_result"
    }
   ],
   "source": [
    "product_json"
   ]
  },
  {
   "cell_type": "code",
   "execution_count": 29,
   "metadata": {},
   "outputs": [
    {
     "name": "stdout",
     "output_type": "stream",
     "text": [
      "----------Extraction of data is complete. Check json file.----------\n"
     ]
    }
   ],
   "source": [
    "# Saving the scraped html file\n",
    "with open('C:\\\\DataSets\\\\output_file.html', 'wb') as file:\n",
    "    file.write(html)\n",
    "#Saving the scraped data in json format\n",
    "with open('C:\\\\DataSets\\\\product.json', 'w') as outfile:\n",
    "    json.dump(product_json, outfile, indent=4)\n",
    "print ('----------Extraction of data is complete. Check json file.----------')"
   ]
  },
  {
   "cell_type": "code",
   "execution_count": null,
   "metadata": {},
   "outputs": [],
   "source": []
  }
 ],
 "metadata": {
  "kernelspec": {
   "display_name": "Python 3",
   "language": "python",
   "name": "python3"
  },
  "language_info": {
   "codemirror_mode": {
    "name": "ipython",
    "version": 3
   },
   "file_extension": ".py",
   "mimetype": "text/x-python",
   "name": "python",
   "nbconvert_exporter": "python",
   "pygments_lexer": "ipython3",
   "version": "3.6.8"
  }
 },
 "nbformat": 4,
 "nbformat_minor": 2
}
